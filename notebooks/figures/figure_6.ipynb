{
 "cells": [
  {
   "cell_type": "markdown",
   "metadata": {},
   "source": [
    "# Figure 6\n",
    "Data is assumed to be in the folder \"../../data/sequencing_runs/\" if that is not true change below"
   ]
  },
  {
   "cell_type": "markdown",
   "metadata": {},
   "source": []
  },
  {
   "cell_type": "markdown",
   "metadata": {},
   "source": [
    "## setup"
   ]
  },
  {
   "cell_type": "code",
   "execution_count": 11,
   "metadata": {},
   "outputs": [],
   "source": [
    "# imports\n",
    "import matplotlib.pyplot as plt\n",
    "import numpy as np\n",
    "import pandas as pd\n",
    "import seaborn as sns\n",
    "\n",
    "from qmap_paper.plotting import publication_style_ax, publication_scatter, publication_line\n",
    "from qmap_paper.titration import normalize_data, normalized_hill_equation, compute_mg_1_2\n",
    "from qmap_paper.data_processing import get_dms_reactivity_for_sub_structure, SequenceStructure\n",
    "\n",
    "# general figure tweaks\n",
    "%matplotlib inline\n",
    "plt.rcParams[\"figure.figsize\"] = (15, 10)\n",
    "plt.rcParams[\"font.size\"] = 20\n",
    "plt.rcParams[\"figure.facecolor\"] = \"white\""
   ]
  },
  {
   "cell_type": "code",
   "execution_count": 9,
   "metadata": {},
   "outputs": [],
   "source": [
    "DATA_PATH = \"../../data/sequencing_runs/\""
   ]
  },
  {
   "cell_type": "code",
   "execution_count": 10,
   "metadata": {},
   "outputs": [],
   "source": [
    "df_wt_mg = pd.read_json(f\"{DATA_PATH}/processed/wt_mg_titra.json\")\n",
    "df_wt_buff = pd.read_json(f\"{DATA_PATH}/processed/wt_buffer_titra.json\")\n",
    "df_mttr6_muts = pd.read_json(f\"{DATA_PATH}/processed/mttr6_muts_titra.json\")\n",
    "df_mttr6_full = pd.read_json(f\"{DATA_PATH}/processed/mttr6_data_full.json\")"
   ]
  },
  {
   "cell_type": "code",
   "execution_count": 69,
   "metadata": {},
   "outputs": [],
   "source": [
    "df_mttr6_full = df_mttr6_full[df_mttr6_full[\"mg_conc\"] != 5.0]"
   ]
  },
  {
   "attachments": {},
   "cell_type": "markdown",
   "metadata": {},
   "source": [
    "### extra functions"
   ]
  },
  {
   "cell_type": "code",
   "execution_count": 25,
   "metadata": {},
   "outputs": [],
   "source": [
    "def generate_pymol_file(data, pymol_data_file):\n",
    "    \"\"\"\n",
    "    Generate the PyMOL file for a single row.\n",
    "\n",
    "    Args:\n",
    "        data (list): The data to be written to the PyMOL file.\n",
    "        pymol_data_file (str): The file path of the PyMOL data file to be generated.\n",
    "\n",
    "    Returns:\n",
    "        None\n",
    "\n",
    "    Raises:\n",
    "        None\n",
    "    \"\"\"\n",
    "    with open(pymol_data_file, \"w\") as f:\n",
    "        for i, d in enumerate(data):\n",
    "            d = d * 25\n",
    "            f.write(f\"{i+1} {d} {d}\\n\")"
   ]
  },
  {
   "cell_type": "markdown",
   "metadata": {},
   "source": [
    "## plots"
   ]
  },
  {
   "cell_type": "code",
   "execution_count": 12,
   "metadata": {},
   "outputs": [],
   "source": [
    "df_wt = df_wt_mg[df_wt_mg[\"run_name\"] == \"2022_07_27_minittr_50mM_NaC_Mg_titra_seq\"]\n",
    "df_upper = df_mttr6_full[df_mttr6_full[\"name\"] == \"CAUGG_CCUAAA\"]\n",
    "df_lower = df_mttr6_full[df_mttr6_full[\"name\"] == \"CACGG_CCCUAAC\"]"
   ]
  },
  {
   "cell_type": "markdown",
   "metadata": {},
   "source": [
    "### generating pymol coloring files for CCUAAC_CAUGG"
   ]
  },
  {
   "cell_type": "code",
   "execution_count": 39,
   "metadata": {},
   "outputs": [],
   "source": [
    "df_CCUAAC_CAUGG = df_mttr6_full[df_mttr6_full[\"name\"] == \"CCUAAC_CAUGG\"]\n",
    "ss = SequenceStructure(\"CACAUGG&CCUAACUG\", \"((...((&))....))\") # sequence and structure for this variant"
   ]
  },
  {
   "cell_type": "code",
   "execution_count": 40,
   "metadata": {},
   "outputs": [],
   "source": [
    "df_m_0 = df_CCUAAC_CAUGG[df_CCUAAC_CAUGG[\"mg_conc\"] == 0.0]\n",
    "data = get_dms_reactivity_for_sub_structure(df_m_0, ss)\n",
    "full_data = df_m_0.iloc[0]['gaaa'] + data[0]\n",
    "generate_pymol_file(full_data, \"CCUAAC_CAUGG_mg_0.dat\")"
   ]
  },
  {
   "cell_type": "code",
   "execution_count": 41,
   "metadata": {},
   "outputs": [],
   "source": [
    "df_m_40 = df_CCUAAC_CAUGG[df_CCUAAC_CAUGG[\"mg_conc\"] == 40.0]\n",
    "row = df_m_40.iloc[0]\n",
    "data = get_dms_reactivity_for_sub_structure(df_m_40, ss)\n",
    "full_data = row['gaaa'] + data[0]\n",
    "generate_pymol_file(full_data, \"CCUAAC_CAUGGC_mg_40.dat\")"
   ]
  },
  {
   "cell_type": "markdown",
   "metadata": {},
   "source": [
    "### plotting and pymol coloring for CCUAAG_UACGG"
   ]
  },
  {
   "cell_type": "code",
   "execution_count": 28,
   "metadata": {},
   "outputs": [],
   "source": [
    "df_UACGG_CCUAAG = df_mttr6_full[df_mttr6_full[\"name\"] == \"CCUAAG_UACGG\"]"
   ]
  },
  {
   "cell_type": "markdown",
   "metadata": {},
   "source": [
    "#### plotting U to C mutation in CCUAAG_UACGG\n"
   ]
  },
  {
   "cell_type": "code",
   "execution_count": 90,
   "metadata": {},
   "outputs": [
    {
     "data": {
      "text/plain": [
       "(0.0, 0.04)"
      ]
     },
     "execution_count": 90,
     "metadata": {},
     "output_type": "execute_result"
    },
    {
     "data": {
      "image/png": "[encoded data removed]",
      "text/plain": [
       "<Figure size 550x550 with 1 Axes>"
      ]
     },
     "metadata": {},
     "output_type": "display_data"
    }
   ],
   "source": [
    "fig, ax = plt.subplots(figsize=(5.5, 5.5))\n",
    "POS = 9\n",
    "publication_style_ax(ax)\n",
    "publication_line(ax, df_UACGG_CCUAAG['mg_conc'], df_UACGG_CCUAAG['tlr'].apply(lambda x : x[POS-1]), marker='o')\n",
    "ax.set_ylim(0,0.04)"
   ]
  },
  {
   "cell_type": "markdown",
   "metadata": {},
   "source": [
    "#### generating pymol coloring files for CCUAAG_UACGG"
   ]
  },
  {
   "cell_type": "code",
   "execution_count": 29,
   "metadata": {},
   "outputs": [],
   "source": [
    "df_m_0 = df_UACGG_CCUAAG[df_UACGG_CCUAAG[\"mg_conc\"] == 0.0]\n",
    "df_m_40 = df_UACGG_CCUAAG[df_UACGG_CCUAAG[\"mg_conc\"] == 40.0]\n",
    "ss = SequenceStructure(\"AAUACGG&CCUAAGUU\", \"(((..((&))...)))\")\n"
   ]
  },
  {
   "cell_type": "code",
   "execution_count": 93,
   "metadata": {},
   "outputs": [],
   "source": [
    "data_m_0 = get_dms_reactivity_for_sub_structure(df_m_0, ss)\n",
    "data_m_40 = get_dms_reactivity_for_sub_structure(df_m_40, ss)"
   ]
  },
  {
   "cell_type": "code",
   "execution_count": 94,
   "metadata": {},
   "outputs": [],
   "source": [
    "row_m_0 = df_m_0.iloc[0]\n",
    "row_m_40 = df_m_40.iloc[0]"
   ]
  },
  {
   "cell_type": "code",
   "execution_count": 95,
   "metadata": {},
   "outputs": [],
   "source": [
    "full_data_m_0 = row_m_0['gaaa'] + data_m_0[0]\n",
    "full_data_m_40 = row_m_40['gaaa'] + data_m_40[0]"
   ]
  },
  {
   "cell_type": "code",
   "execution_count": 96,
   "metadata": {},
   "outputs": [],
   "source": [
    "generate_pymol_file(full_data_m_0, \"UACGG_CCUAAG_mg_0.dat\")\n",
    "generate_pymol_file(full_data_m_40, \"UACGG_CCUAAG_mg_40.dat\")"
   ]
  },
  {
   "cell_type": "markdown",
   "metadata": {},
   "source": [
    "### plotting and pymol coloring for CCUAAAG_UAUGG"
   ]
  },
  {
   "cell_type": "code",
   "execution_count": 97,
   "metadata": {},
   "outputs": [],
   "source": [
    "df_AUAUGG_CCUAAAGU = df_mttr6_full[df_mttr6_full[\"name\"] == \"UAUGG_CCUAAAG\"]"
   ]
  },
  {
   "cell_type": "code",
   "execution_count": 98,
   "metadata": {},
   "outputs": [],
   "source": [
    "data = get_dms_reactivity_for_sub_structure(df_m_40, ss)"
   ]
  },
  {
   "cell_type": "code",
   "execution_count": 99,
   "metadata": {},
   "outputs": [
    {
     "data": {
      "text/plain": [
       "(0.0, 0.04)"
      ]
     },
     "execution_count": 99,
     "metadata": {},
     "output_type": "execute_result"
    },
    {
     "data": {
      "image/png": "[encoded data removed]",
      "text/plain": [
       "<Figure size 550x550 with 1 Axes>"
      ]
     },
     "metadata": {},
     "output_type": "display_data"
    }
   ],
   "source": [
    "fig, ax = plt.subplots(figsize=(5.5, 5.5))\n",
    "POS = 6\n",
    "publication_style_ax(ax)\n",
    "publication_line(ax, df_AUAUGG_CCUAAAGU['mg_conc'], df_AUAUGG_CCUAAAGU['tlr'].apply(lambda x : x[POS-1]), marker='o')\n",
    "ax.set_ylim(0,0.04)"
   ]
  },
  {
   "cell_type": "code",
   "execution_count": 100,
   "metadata": {},
   "outputs": [],
   "source": [
    "df_m_0 = df_AUAUGG_CCUAAAGU[df_AUAUGG_CCUAAAGU[\"mg_conc\"] == 0.0]\n",
    "df_m_40 = df_AUAUGG_CCUAAAGU[df_AUAUGG_CCUAAAGU[\"mg_conc\"] == 40.0]"
   ]
  },
  {
   "cell_type": "code",
   "execution_count": 101,
   "metadata": {},
   "outputs": [],
   "source": [
    "# note make sure to get the correct flanking pairs from the full sequence\n",
    "ss = SequenceStructure(\"UAUAUGG&CCUAAAGUA\", \"(((..((&))....)))\")\n"
   ]
  },
  {
   "cell_type": "code",
   "execution_count": 102,
   "metadata": {},
   "outputs": [],
   "source": [
    "data_m_0 = get_dms_reactivity_for_sub_structure(df_m_0, ss)\n",
    "data_m_40 = get_dms_reactivity_for_sub_structure(df_m_40, ss)"
   ]
  },
  {
   "cell_type": "code",
   "execution_count": 103,
   "metadata": {},
   "outputs": [],
   "source": [
    "row_m_0 = df_m_0.iloc[0]\n",
    "row_m_40 = df_m_40.iloc[0]"
   ]
  },
  {
   "cell_type": "code",
   "execution_count": 104,
   "metadata": {},
   "outputs": [],
   "source": [
    "full_data_m_0 = row_m_0['gaaa'] + data_m_0[0]\n",
    "full_data_m_40 = row_m_40['gaaa'] + data_m_40[0]"
   ]
  },
  {
   "cell_type": "code",
   "execution_count": 105,
   "metadata": {},
   "outputs": [],
   "source": [
    "generate_pymol_file(full_data_m_0, \"AUAUGG_CCUAAAGU_mg_0.dat\")\n",
    "generate_pymol_file(full_data_m_40, \"AUAUGG_CCUAAAGU_mg_40.dat\")"
   ]
  }
 ],
 "metadata": {
  "kernelspec": {
   "display_name": "py3",
   "language": "python",
   "name": "python3"
  },
  "language_info": {
   "codemirror_mode": {
    "name": "ipython",
    "version": 3
   },
   "file_extension": ".py",
   "mimetype": "text/x-python",
   "name": "python",
   "nbconvert_exporter": "python",
   "pygments_lexer": "ipython3",
   "version": "3.8.19"
  },
  "orig_nbformat": 4
 },
 "nbformat": 4,
 "nbformat_minor": 2
}
