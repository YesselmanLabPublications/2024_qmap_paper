{
 "cells": [
  {
   "cell_type": "markdown",
   "metadata": {},
   "source": [
    "# Generating figure 7 version 2"
   ]
  },
  {
   "cell_type": "markdown",
   "metadata": {},
   "source": [
    "## setup"
   ]
  },
  {
   "cell_type": "code",
   "execution_count": 66,
   "metadata": {},
   "outputs": [],
   "source": [
    "# imports\n",
    "import matplotlib.pyplot as plt\n",
    "import os\n",
    "import numpy as np\n",
    "import pandas as pd\n",
    "import seaborn as sns\n",
    "from scipy import stats\n",
    "import sys\n",
    "from scipy import optimize\n",
    "\n",
    "from dreem_tools import plotting, parse\n",
    "from q_dms_ttr_paper.paths import DATA_PATH, LIB_PATH\n",
    "from q_dms_ttr_paper.titration import normalize_data, normalized_hill_equation, compute_mg_1_2\n",
    "from q_dms_ttr_paper.data_processing import get_dms_reactivity_for_sub_structure, SequenceStructure\n",
    "\n",
    "# general figure tweaks\n",
    "%matplotlib inline\n",
    "plt.rcParams[\"figure.figsize\"] = (15, 10)\n",
    "plt.rcParams[\"font.size\"] = 20\n",
    "# to fight the theme\n",
    "plt.rcParams[\"figure.facecolor\"] = \"white\""
   ]
  },
  {
   "cell_type": "code",
   "execution_count": 67,
   "metadata": {},
   "outputs": [],
   "source": [
    "df_wt_mg = pd.read_json(f\"{DATA_PATH}/processed/wt_mg_titra.json\")\n",
    "df_wt_buff = pd.read_json(f\"{DATA_PATH}/processed/wt_buffer_titra.json\")\n",
    "df_mttr6_muts = pd.read_json(f\"{DATA_PATH}/processed/mttr6_muts_titra.json\")\n",
    "df_mttr6_full = pd.read_json(f\"{DATA_PATH}/processed/mttr6_data_full.json\")\n",
    "df_mg_1_2 = pd.read_csv(f\"{DATA_PATH}/processed/mtt6_data_mg_1_2.csv\")\n",
    "df_dg = pd.read_csv(f\"{LIB_PATH}/resources/csvs/ttr_mutation_dgs_subset.csv\")\n"
   ]
  },
  {
   "cell_type": "code",
   "execution_count": 68,
   "metadata": {},
   "outputs": [
    {
     "data": {
      "text/html": [
       "<div>\n",
       "<style scoped>\n",
       "    .dataframe tbody tr th:only-of-type {\n",
       "        vertical-align: middle;\n",
       "    }\n",
       "\n",
       "    .dataframe tbody tr th {\n",
       "        vertical-align: top;\n",
       "    }\n",
       "\n",
       "    .dataframe thead th {\n",
       "        text-align: right;\n",
       "    }\n",
       "</style>\n",
       "<table border=\"1\" class=\"dataframe\">\n",
       "  <thead>\n",
       "    <tr style=\"text-align: right;\">\n",
       "      <th></th>\n",
       "      <th>name</th>\n",
       "      <th>r_name</th>\n",
       "      <th>act_seq</th>\n",
       "      <th>act_ss</th>\n",
       "      <th>seq</th>\n",
       "      <th>dg</th>\n",
       "    </tr>\n",
       "  </thead>\n",
       "  <tbody>\n",
       "    <tr>\n",
       "      <th>0</th>\n",
       "      <td>CAUGG_CCUAAA</td>\n",
       "      <td>11ntR_6A_7C</td>\n",
       "      <td>ACAUGG&amp;CCUAAAU</td>\n",
       "      <td>(...((&amp;))....)</td>\n",
       "      <td>CUAGGACAUGGUUGAUAUAGGGGAACCUAUAUCAACCUAAAUCCUAG</td>\n",
       "      <td>-11.77</td>\n",
       "    </tr>\n",
       "    <tr>\n",
       "      <th>1</th>\n",
       "      <td>CAUGA_UCUAAA</td>\n",
       "      <td>11ntR_1U_6A_7C_11A</td>\n",
       "      <td>ACAUGA&amp;UCUAAAU</td>\n",
       "      <td>(...((&amp;))....)</td>\n",
       "      <td>CUAGGACAUGAUUGAUAUAGGGGAACCUAUAUCAAUCUAAAUCCUAG</td>\n",
       "      <td>-11.50</td>\n",
       "    </tr>\n",
       "    <tr>\n",
       "      <th>2</th>\n",
       "      <td>CACGG_CCUAAC</td>\n",
       "      <td>11ntR_6C_7C_9C</td>\n",
       "      <td>ACACGG&amp;CCUAACU</td>\n",
       "      <td>(...((&amp;))....)</td>\n",
       "      <td>CUAGGACACGGUUGAUAUAGGGGAACCUAUAUCAACCUAACUCCUAG</td>\n",
       "      <td>-11.44</td>\n",
       "    </tr>\n",
       "    <tr>\n",
       "      <th>3</th>\n",
       "      <td>CAUGG_CCUAAC</td>\n",
       "      <td>11ntR_6C_7C</td>\n",
       "      <td>ACAUGG&amp;CCUAACU</td>\n",
       "      <td>(...((&amp;))....)</td>\n",
       "      <td>CUAGGACAUGGUUGAUAUAGGGGAACCUAUAUCAACCUAACUCCUAG</td>\n",
       "      <td>-11.39</td>\n",
       "    </tr>\n",
       "    <tr>\n",
       "      <th>4</th>\n",
       "      <td>CAUGC_GCUAAA</td>\n",
       "      <td>11ntR_1G_6A_7C_11C</td>\n",
       "      <td>ACAUGC&amp;GCUAAAU</td>\n",
       "      <td>(...((&amp;))....)</td>\n",
       "      <td>CUAGGACAUGCUUGAUAUAGGGGAACCUAUAUCAAGCUAAAUCCUAG</td>\n",
       "      <td>-11.39</td>\n",
       "    </tr>\n",
       "    <tr>\n",
       "      <th>...</th>\n",
       "      <td>...</td>\n",
       "      <td>...</td>\n",
       "      <td>...</td>\n",
       "      <td>...</td>\n",
       "      <td>...</td>\n",
       "      <td>...</td>\n",
       "    </tr>\n",
       "    <tr>\n",
       "      <th>94</th>\n",
       "      <td>ACUGG_CCUGCC</td>\n",
       "      <td>C7.43</td>\n",
       "      <td>AACUGG&amp;CCUGCCU</td>\n",
       "      <td>(...((&amp;))....)</td>\n",
       "      <td>CUAGGAACUGGAAUGCACAGGGGAACCUGUGCAUUCCUGCCUCCUAG</td>\n",
       "      <td>-9.06</td>\n",
       "    </tr>\n",
       "    <tr>\n",
       "      <th>95</th>\n",
       "      <td>GACGG_CCUAAA</td>\n",
       "      <td>11ntR_6A_7C_9C</td>\n",
       "      <td>AGACGG&amp;CCUAAAU</td>\n",
       "      <td>(...((&amp;))....)</td>\n",
       "      <td>CUAGGAGACGGUUGAUAUAGGGGAACCUAUAUCAACCUAAAUCCUAG</td>\n",
       "      <td>-8.91</td>\n",
       "    </tr>\n",
       "    <tr>\n",
       "      <th>96</th>\n",
       "      <td>CAUGC_GCUCAA</td>\n",
       "      <td>11ntR_1G_6A_7C_11C</td>\n",
       "      <td>ACAUGC&amp;GCUCAAU</td>\n",
       "      <td>(...((&amp;))....)</td>\n",
       "      <td>CUAGGACAUGCAAUGCACAGGGGAACCUGUGCAUUGCUCAAUCCUAG</td>\n",
       "      <td>-8.82</td>\n",
       "    </tr>\n",
       "    <tr>\n",
       "      <th>97</th>\n",
       "      <td>CAUGC_GCUGAA</td>\n",
       "      <td>11ntR_1G_6A_7C_11C</td>\n",
       "      <td>ACAUGC&amp;GCUGAAU</td>\n",
       "      <td>(...((&amp;))....)</td>\n",
       "      <td>CUAGGACAUGCAAUGCACAGGGGAACCUGUGCAUUGCUGAAUCCUAG</td>\n",
       "      <td>-8.81</td>\n",
       "    </tr>\n",
       "    <tr>\n",
       "      <th>98</th>\n",
       "      <td>AAUGG_UCUAAG</td>\n",
       "      <td>11ntR</td>\n",
       "      <td>AAAUGG&amp;UCUAAGU</td>\n",
       "      <td>(...((&amp;))....)</td>\n",
       "      <td>CUAGGAAAUGGAAUGCACAGGGGAACCUGUGCAUUUCUAAGUCCUAG</td>\n",
       "      <td>-8.35</td>\n",
       "    </tr>\n",
       "  </tbody>\n",
       "</table>\n",
       "<p>99 rows × 6 columns</p>\n",
       "</div>"
      ],
      "text/plain": [
       "            name              r_name         act_seq          act_ss  \\\n",
       "0   CAUGG_CCUAAA         11ntR_6A_7C  ACAUGG&CCUAAAU  (...((&))....)   \n",
       "1   CAUGA_UCUAAA  11ntR_1U_6A_7C_11A  ACAUGA&UCUAAAU  (...((&))....)   \n",
       "2   CACGG_CCUAAC      11ntR_6C_7C_9C  ACACGG&CCUAACU  (...((&))....)   \n",
       "3   CAUGG_CCUAAC         11ntR_6C_7C  ACAUGG&CCUAACU  (...((&))....)   \n",
       "4   CAUGC_GCUAAA  11ntR_1G_6A_7C_11C  ACAUGC&GCUAAAU  (...((&))....)   \n",
       "..           ...                 ...             ...             ...   \n",
       "94  ACUGG_CCUGCC               C7.43  AACUGG&CCUGCCU  (...((&))....)   \n",
       "95  GACGG_CCUAAA      11ntR_6A_7C_9C  AGACGG&CCUAAAU  (...((&))....)   \n",
       "96  CAUGC_GCUCAA  11ntR_1G_6A_7C_11C  ACAUGC&GCUCAAU  (...((&))....)   \n",
       "97  CAUGC_GCUGAA  11ntR_1G_6A_7C_11C  ACAUGC&GCUGAAU  (...((&))....)   \n",
       "98  AAUGG_UCUAAG               11ntR  AAAUGG&UCUAAGU  (...((&))....)   \n",
       "\n",
       "                                                seq     dg  \n",
       "0   CUAGGACAUGGUUGAUAUAGGGGAACCUAUAUCAACCUAAAUCCUAG -11.77  \n",
       "1   CUAGGACAUGAUUGAUAUAGGGGAACCUAUAUCAAUCUAAAUCCUAG -11.50  \n",
       "2   CUAGGACACGGUUGAUAUAGGGGAACCUAUAUCAACCUAACUCCUAG -11.44  \n",
       "3   CUAGGACAUGGUUGAUAUAGGGGAACCUAUAUCAACCUAACUCCUAG -11.39  \n",
       "4   CUAGGACAUGCUUGAUAUAGGGGAACCUAUAUCAAGCUAAAUCCUAG -11.39  \n",
       "..                                              ...    ...  \n",
       "94  CUAGGAACUGGAAUGCACAGGGGAACCUGUGCAUUCCUGCCUCCUAG  -9.06  \n",
       "95  CUAGGAGACGGUUGAUAUAGGGGAACCUAUAUCAACCUAAAUCCUAG  -8.91  \n",
       "96  CUAGGACAUGCAAUGCACAGGGGAACCUGUGCAUUGCUCAAUCCUAG  -8.82  \n",
       "97  CUAGGACAUGCAAUGCACAGGGGAACCUGUGCAUUGCUGAAUCCUAG  -8.81  \n",
       "98  CUAGGAAAUGGAAUGCACAGGGGAACCUGUGCAUUUCUAAGUCCUAG  -8.35  \n",
       "\n",
       "[99 rows x 6 columns]"
      ]
     },
     "execution_count": 68,
     "metadata": {},
     "output_type": "execute_result"
    }
   ],
   "source": [
    "df_dg"
   ]
  },
  {
   "cell_type": "code",
   "execution_count": 69,
   "metadata": {},
   "outputs": [],
   "source": [
    "df_mttr6_full = df_mttr6_full[df_mttr6_full[\"mg_conc\"] != 5.0]"
   ]
  },
  {
   "attachments": {},
   "cell_type": "markdown",
   "metadata": {},
   "source": [
    "### style functions"
   ]
  },
  {
   "cell_type": "code",
   "execution_count": 70,
   "metadata": {},
   "outputs": [],
   "source": [
    "# style functions\n",
    "def publication_style_ax(ax):\n",
    "    for spine in ax.spines.values():\n",
    "        spine.set_linewidth(2)\n",
    "    ax.tick_params(width=2)\n",
    "    fsize = 24\n",
    "    ax.xaxis.label.set_fontsize(fsize)\n",
    "    ax.yaxis.label.set_fontsize(fsize)\n",
    "    ax.tick_params(axis='both', which='major', labelsize=fsize-2)\n",
    "\n",
    "\n",
    "def publication_scatter(ax, x, y, **kwargs):\n",
    "    ax.scatter(x, y, s=150, **kwargs)\n",
    "\n",
    "\n",
    "def publication_line(ax, x, y, **kwargs):\n",
    "    ax.plot(x, y, markersize=10, lw=2, **kwargs)"
   ]
  },
  {
   "attachments": {},
   "cell_type": "markdown",
   "metadata": {},
   "source": [
    "### plotting functions"
   ]
  },
  {
   "cell_type": "code",
   "execution_count": 71,
   "metadata": {},
   "outputs": [],
   "source": [
    "def generate_pymol_file(data, pymol_data_file):\n",
    "    \"\"\"\n",
    "    generate the pymol file for a single row\n",
    "    \"\"\"\n",
    "    with open(pymol_data_file, \"w\") as f:\n",
    "        for i, d in enumerate(data):\n",
    "            d = d*25\n",
    "            f.write(f\"{i+1} {d} {d}\\n\")"
   ]
  },
  {
   "cell_type": "markdown",
   "metadata": {},
   "source": [
    "## plots"
   ]
  },
  {
   "cell_type": "code",
   "execution_count": 72,
   "metadata": {},
   "outputs": [],
   "source": [
    "df_wt = df_wt_mg[df_wt_mg[\"run_name\"] == \"2022_07_27_minittr_50mM_NaC_Mg_titra_seq\"]\n",
    "df_upper = df_mttr6_full[df_mttr6_full[\"name\"] == \"CAUGG_CCUAAA\"]\n",
    "df_lower = df_mttr6_full[df_mttr6_full[\"name\"] == \"CACGG_CCCUAAC\"]"
   ]
  },
  {
   "cell_type": "markdown",
   "metadata": {},
   "source": [
    "### CAUGG_CCUAAC"
   ]
  },
  {
   "cell_type": "code",
   "execution_count": 112,
   "metadata": {},
   "outputs": [],
   "source": [
    "df_CAUGG_CCUAAC = df_mttr6_full[df_mttr6_full[\"name\"] == \"CAUGG_CCUAAC\"]"
   ]
  },
  {
   "cell_type": "code",
   "execution_count": 113,
   "metadata": {},
   "outputs": [],
   "source": [
    "df_m_0 = df_CAUGG_CCUAAC[df_CAUGG_CCUAAC[\"mg_conc\"] == 0.0]"
   ]
  },
  {
   "cell_type": "code",
   "execution_count": 114,
   "metadata": {},
   "outputs": [
    {
     "name": "stdout",
     "output_type": "stream",
     "text": [
      "11\n"
     ]
    }
   ],
   "source": [
    "print(len(df_m_0.iloc[0][\"tlr\"]))"
   ]
  },
  {
   "cell_type": "code",
   "execution_count": null,
   "metadata": {},
   "outputs": [],
   "source": []
  },
  {
   "cell_type": "code",
   "execution_count": 115,
   "metadata": {},
   "outputs": [
    {
     "name": "stdout",
     "output_type": "stream",
     "text": [
      "Index(['name', 'sequence', 'structure', 'data_type', 'num_reads', 'num_aligns',\n",
      "       'data', 'no_mut', '1_mut', '2_mut', '3_mut', '3plus_mut', 'sn', 'dir',\n",
      "       'rna_name', 'run_name', 'exp_name', 'code', 'length', 'barcode',\n",
      "       'barcode_seq', 'buffer', 'buffer_conc', 'mg_conc', 'exp_type', 'dg',\n",
      "       'act_seq', 'act_ss', 'gaaa', 'gaaa_avg', 'ref_hp', 'ref_hp_as', 'tlr'],\n",
      "      dtype='object')\n"
     ]
    }
   ],
   "source": [
    "print(df_m_0.columns)"
   ]
  },
  {
   "cell_type": "code",
   "execution_count": 122,
   "metadata": {},
   "outputs": [],
   "source": [
    "row = df_m_0.iloc[0]"
   ]
  },
  {
   "cell_type": "code",
   "execution_count": 123,
   "metadata": {},
   "outputs": [
    {
     "name": "stdout",
     "output_type": "stream",
     "text": [
      "[0.00119, 0.00109, 0.01531, 0.0292, 0.035030000000000006, 0.00117]\n"
     ]
    }
   ],
   "source": [
    "print(row['gaaa'])"
   ]
  },
  {
   "cell_type": "code",
   "execution_count": 124,
   "metadata": {},
   "outputs": [
    {
     "name": "stdout",
     "output_type": "stream",
     "text": [
      "[0.0208, 0.0323]\n"
     ]
    }
   ],
   "source": [
    "print([round(x, 4) for x in row['tlr']][4:6])"
   ]
  },
  {
   "cell_type": "code",
   "execution_count": 130,
   "metadata": {},
   "outputs": [],
   "source": [
    "ss = SequenceStructure(\"CACAUGG&CCUAACUG\", \"((...((&))....))\")"
   ]
  },
  {
   "cell_type": "code",
   "execution_count": 81,
   "metadata": {},
   "outputs": [
    {
     "name": "stdout",
     "output_type": "stream",
     "text": [
      "16\n"
     ]
    }
   ],
   "source": [
    "print(len(ss))"
   ]
  },
  {
   "cell_type": "code",
   "execution_count": 82,
   "metadata": {},
   "outputs": [
    {
     "name": "stdout",
     "output_type": "stream",
     "text": [
      "GAUCGGUGCGAGUAGCAUCGAUCAAAGCUGCGCACAUGGCUGACCACCGAGCCUGUGAACUACCGUGAACACUGGAAACAGUACCCACGGCGCAGGCGUUUGACGUGGUCGGCCUAACUGCGUAGCAC\n",
      "(((((((((.....)))))))))...((((((((...((((((((((((((((((((.....(((((...((((....))))...))))))))))))..)))..))))))))))....))))))))..\n"
     ]
    }
   ],
   "source": [
    "print(row[\"sequence\"])\n",
    "print(row[\"structure\"])"
   ]
  },
  {
   "cell_type": "code",
   "execution_count": 83,
   "metadata": {},
   "outputs": [],
   "source": [
    "data = get_dms_reactivity_for_sub_structure(df_m_0, ss)"
   ]
  },
  {
   "cell_type": "code",
   "execution_count": 84,
   "metadata": {},
   "outputs": [],
   "source": [
    "full_data = row['gaaa'] + data[0]"
   ]
  },
  {
   "cell_type": "code",
   "execution_count": 85,
   "metadata": {},
   "outputs": [],
   "source": [
    "generate_pymol_file(full_data, \"CAUGG_CCUAAC_mg_0.dat\")"
   ]
  },
  {
   "cell_type": "markdown",
   "metadata": {},
   "source": []
  },
  {
   "cell_type": "code",
   "execution_count": 131,
   "metadata": {},
   "outputs": [],
   "source": [
    "df_m_40 = df_CAUGG_CCUAAC[df_CAUGG_CCUAAC[\"mg_conc\"] == 40.0]"
   ]
  },
  {
   "cell_type": "code",
   "execution_count": 132,
   "metadata": {},
   "outputs": [],
   "source": [
    "row = df_m_40.iloc[0]\n",
    "data = get_dms_reactivity_for_sub_structure(df_m_40, ss)\n",
    "full_data = row['gaaa'] + data[0]"
   ]
  },
  {
   "cell_type": "code",
   "execution_count": 133,
   "metadata": {},
   "outputs": [
    {
     "name": "stdout",
     "output_type": "stream",
     "text": [
      "[0.0092, 0.064]\n"
     ]
    }
   ],
   "source": [
    "print([round(x, 4) for x in row['tlr']][4:6])"
   ]
  },
  {
   "cell_type": "code",
   "execution_count": 88,
   "metadata": {},
   "outputs": [],
   "source": [
    "generate_pymol_file(full_data, \"CAUGG_CCUAAC_mg_40.dat\")"
   ]
  },
  {
   "cell_type": "code",
   "execution_count": 146,
   "metadata": {},
   "outputs": [
    {
     "data": {
      "text/plain": [
       "(array([8., 1., 2., 6., 1., 3., 0., 3., 0., 0., 0., 1., 0., 0., 1., 0., 0.,\n",
       "        0., 0., 1.]),\n",
       " array([0.00132  , 0.0069405, 0.012561 , 0.0181815, 0.023802 , 0.0294225,\n",
       "        0.035043 , 0.0406635, 0.046284 , 0.0519045, 0.057525 , 0.0631455,\n",
       "        0.068766 , 0.0743865, 0.080007 , 0.0856275, 0.091248 , 0.0968685,\n",
       "        0.102489 , 0.1081095, 0.11373  ]),\n",
       " <BarContainer object of 20 artists>)"
      ]
     },
     "execution_count": 146,
     "metadata": {},
     "output_type": "execute_result"
    },
    {
     "data": {
      "image/png": "[encoded data removed]",
      "text/plain": [
       "<Figure size 1500x1000 with 1 Axes>"
      ]
     },
     "metadata": {},
     "output_type": "display_data"
    }
   ],
   "source": [
    "vals = []\n",
    "for seq, ss, react in zip(row[\"sequence\"], row[\"structure\"], row[\"data\"]):\n",
    "    if seq == \"G\" or seq == \"U\":\n",
    "        continue\n",
    "    if ss == \".\":\n",
    "        vals.append(react)\n",
    "plt.hist(vals, bins=20)"
   ]
  },
  {
   "cell_type": "markdown",
   "metadata": {},
   "source": [
    "### UACGG_CCUAAG"
   ]
  },
  {
   "cell_type": "code",
   "execution_count": 89,
   "metadata": {},
   "outputs": [],
   "source": [
    "df_UACGG_CCUAAG = df_mttr6_full[df_mttr6_full[\"name\"] == \"UACGG_CCUAAG\"]"
   ]
  },
  {
   "cell_type": "code",
   "execution_count": 90,
   "metadata": {},
   "outputs": [
    {
     "data": {
      "text/plain": [
       "(0.0, 0.04)"
      ]
     },
     "execution_count": 90,
     "metadata": {},
     "output_type": "execute_result"
    },
    {
     "data": {
      "image/png": "[encoded data removed]",
      "text/plain": [
       "<Figure size 550x550 with 1 Axes>"
      ]
     },
     "metadata": {},
     "output_type": "display_data"
    }
   ],
   "source": [
    "fig, ax = plt.subplots(figsize=(5.5, 5.5))\n",
    "POS = 9\n",
    "publication_style_ax(ax)\n",
    "publication_line(ax, df_UACGG_CCUAAG['mg_conc'], df_UACGG_CCUAAG['tlr'].apply(lambda x : x[POS-1]), marker='o')\n",
    "ax.set_ylim(0,0.04)"
   ]
  },
  {
   "cell_type": "code",
   "execution_count": 91,
   "metadata": {},
   "outputs": [],
   "source": [
    "df_m_0 = df_UACGG_CCUAAG[df_UACGG_CCUAAG[\"mg_conc\"] == 0.0]\n",
    "df_m_40 = df_UACGG_CCUAAG[df_UACGG_CCUAAG[\"mg_conc\"] == 40.0]"
   ]
  },
  {
   "cell_type": "code",
   "execution_count": 92,
   "metadata": {},
   "outputs": [],
   "source": [
    "# note make sure to get the correct flanking pairs from the full sequence\n",
    "ss = SequenceStructure(\"AAUACGG&CCUAAGUU\", \"(((..((&))...)))\")\n"
   ]
  },
  {
   "cell_type": "code",
   "execution_count": 93,
   "metadata": {},
   "outputs": [],
   "source": [
    "data_m_0 = get_dms_reactivity_for_sub_structure(df_m_0, ss)\n",
    "data_m_40 = get_dms_reactivity_for_sub_structure(df_m_40, ss)"
   ]
  },
  {
   "cell_type": "code",
   "execution_count": 94,
   "metadata": {},
   "outputs": [],
   "source": [
    "row_m_0 = df_m_0.iloc[0]\n",
    "row_m_40 = df_m_40.iloc[0]"
   ]
  },
  {
   "cell_type": "code",
   "execution_count": 95,
   "metadata": {},
   "outputs": [],
   "source": [
    "full_data_m_0 = row_m_0['gaaa'] + data_m_0[0]\n",
    "full_data_m_40 = row_m_40['gaaa'] + data_m_40[0]"
   ]
  },
  {
   "cell_type": "code",
   "execution_count": 96,
   "metadata": {},
   "outputs": [],
   "source": [
    "generate_pymol_file(full_data_m_0, \"UACGG_CCUAAG_mg_0.dat\")\n",
    "generate_pymol_file(full_data_m_40, \"UACGG_CCUAAG_mg_40.dat\")"
   ]
  },
  {
   "cell_type": "markdown",
   "metadata": {},
   "source": [
    "### UAUGG_CCUAAAG"
   ]
  },
  {
   "cell_type": "code",
   "execution_count": 97,
   "metadata": {},
   "outputs": [],
   "source": [
    "df_AUAUGG_CCUAAAGU = df_mttr6_full[df_mttr6_full[\"name\"] == \"UAUGG_CCUAAAG\"]"
   ]
  },
  {
   "cell_type": "code",
   "execution_count": 98,
   "metadata": {},
   "outputs": [],
   "source": [
    "data = get_dms_reactivity_for_sub_structure(df_m_40, ss)"
   ]
  },
  {
   "cell_type": "code",
   "execution_count": 99,
   "metadata": {},
   "outputs": [
    {
     "data": {
      "text/plain": [
       "(0.0, 0.04)"
      ]
     },
     "execution_count": 99,
     "metadata": {},
     "output_type": "execute_result"
    },
    {
     "data": {
      "image/png": "[encoded data removed]",
      "text/plain": [
       "<Figure size 550x550 with 1 Axes>"
      ]
     },
     "metadata": {},
     "output_type": "display_data"
    }
   ],
   "source": [
    "fig, ax = plt.subplots(figsize=(5.5, 5.5))\n",
    "POS = 6\n",
    "publication_style_ax(ax)\n",
    "publication_line(ax, df_AUAUGG_CCUAAAGU['mg_conc'], df_AUAUGG_CCUAAAGU['tlr'].apply(lambda x : x[POS-1]), marker='o')\n",
    "ax.set_ylim(0,0.04)"
   ]
  },
  {
   "cell_type": "code",
   "execution_count": 100,
   "metadata": {},
   "outputs": [],
   "source": [
    "df_m_0 = df_AUAUGG_CCUAAAGU[df_AUAUGG_CCUAAAGU[\"mg_conc\"] == 0.0]\n",
    "df_m_40 = df_AUAUGG_CCUAAAGU[df_AUAUGG_CCUAAAGU[\"mg_conc\"] == 40.0]"
   ]
  },
  {
   "cell_type": "code",
   "execution_count": 101,
   "metadata": {},
   "outputs": [],
   "source": [
    "# note make sure to get the correct flanking pairs from the full sequence\n",
    "ss = SequenceStructure(\"UAUAUGG&CCUAAAGUA\", \"(((..((&))....)))\")\n"
   ]
  },
  {
   "cell_type": "code",
   "execution_count": 102,
   "metadata": {},
   "outputs": [],
   "source": [
    "data_m_0 = get_dms_reactivity_for_sub_structure(df_m_0, ss)\n",
    "data_m_40 = get_dms_reactivity_for_sub_structure(df_m_40, ss)"
   ]
  },
  {
   "cell_type": "code",
   "execution_count": 103,
   "metadata": {},
   "outputs": [],
   "source": [
    "row_m_0 = df_m_0.iloc[0]\n",
    "row_m_40 = df_m_40.iloc[0]"
   ]
  },
  {
   "cell_type": "code",
   "execution_count": 104,
   "metadata": {},
   "outputs": [],
   "source": [
    "full_data_m_0 = row_m_0['gaaa'] + data_m_0[0]\n",
    "full_data_m_40 = row_m_40['gaaa'] + data_m_40[0]"
   ]
  },
  {
   "cell_type": "code",
   "execution_count": 105,
   "metadata": {},
   "outputs": [],
   "source": [
    "generate_pymol_file(full_data_m_0, \"AUAUGG_CCUAAAGU_mg_0.dat\")\n",
    "generate_pymol_file(full_data_m_40, \"AUAUGG_CCUAAAGU_mg_40.dat\")"
   ]
  },
  {
   "cell_type": "code",
   "execution_count": null,
   "metadata": {},
   "outputs": [],
   "source": []
  }
 ],
 "metadata": {
  "kernelspec": {
   "display_name": "py3",
   "language": "python",
   "name": "python3"
  },
  "language_info": {
   "codemirror_mode": {
    "name": "ipython",
    "version": 3
   },
   "file_extension": ".py",
   "mimetype": "text/x-python",
   "name": "python",
   "nbconvert_exporter": "python",
   "pygments_lexer": "ipython3",
   "version": "3.8.19"
  },
  "orig_nbformat": 4
 },
 "nbformat": 4,
 "nbformat_minor": 2
}
