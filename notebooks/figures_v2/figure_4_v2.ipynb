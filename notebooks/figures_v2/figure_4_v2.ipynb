{
 "cells": [
  {
   "cell_type": "markdown",
   "metadata": {},
   "source": [
    "# Generating figure 4 version 2\n",
    "\n",
    "Images were generated in "
   ]
  },
  {
   "cell_type": "code",
   "execution_count": 1,
   "metadata": {},
   "outputs": [],
   "source": [
    "# imports\n",
    "import matplotlib.pyplot as plt\n",
    "import os\n",
    "import numpy as np\n",
    "import pandas as pd\n",
    "import seaborn as sns\n",
    "from scipy import stats\n",
    "import sys\n",
    "from scipy import optimize\n",
    "\n",
    "from dreem_tools import plotting, parse\n",
    "\n",
    "# general figure tweaks\n",
    "%matplotlib inline\n",
    "plt.rcParams[\"figure.figsize\"] = (15, 10)\n",
    "plt.rcParams[\"font.size\"] = 20\n",
    "# to fight the theme\n",
    "plt.rcParams[\"figure.facecolor\"] = \"white\""
   ]
  },
  {
   "cell_type": "code",
   "execution_count": 3,
   "metadata": {},
   "outputs": [],
   "source": [
    "BASE_DIR = os.path.abspath(os.path.join(os.getcwd(), '../..'))\n",
    "sys.path.append(BASE_DIR)\n",
    "\n",
    "ANALYSIS_DIR = os.path.join(BASE_DIR, 'scripts', 'analysis')\n",
    "sys.path.append(ANALYSIS_DIR)\n",
    "\n",
    "DATA_PATH = BASE_DIR + '/data'"
   ]
  },
  {
   "cell_type": "code",
   "execution_count": 4,
   "metadata": {},
   "outputs": [],
   "source": [
    "df_uucg = pd.read_json(f\"{DATA_PATH}/uucg_mg_titra.json\")\n"
   ]
  },
  {
   "cell_type": "code",
   "execution_count": 5,
   "metadata": {},
   "outputs": [],
   "source": [
    "# style functions\n",
    "def publication_style_ax(ax):\n",
    "    for spine in ax.spines.values():\n",
    "        spine.set_linewidth(2)\n",
    "    ax.tick_params(width=2)\n",
    "    fsize = 24\n",
    "    ax.xaxis.label.set_fontsize(fsize)\n",
    "    ax.yaxis.label.set_fontsize(fsize)\n",
    "    ax.tick_params(axis='both', which='major', labelsize=fsize-2)\n",
    "    for line in ax.get_xticklines():\n",
    "        line.set_visible(True)\n",
    "    ax.xaxis.set_ticks_position('bottom')  # Show x axis ticks only on bottom\n",
    "    ax.yaxis.set_ticks_position('left')  # Show y axis ticks only on left\n",
    "    # Set the length of the ticks (in points)\n",
    "    ax.tick_params(axis='both', which='major', length=4)\n",
    "    ax.tick_params(axis='both', which='minor', length=4)\n",
    "    ax.xaxis.set_minor_locator(ticker.AutoMinorLocator())\n"
   ]
  },
  {
   "cell_type": "code",
   "execution_count": 6,
   "metadata": {},
   "outputs": [],
   "source": [
    "def get_data_point(df, mg_conc, tlr_pos):\n",
    "    df_sub = df[df['mg_conc'] == mg_conc]\n",
    "    if len(df_sub) > 1:\n",
    "        raise ValueError('More than one data point for given mg_conc')\n",
    "    return df_sub.iloc[0]['tlr'][tlr_pos-1]"
   ]
  },
  {
   "cell_type": "code",
   "execution_count": null,
   "metadata": {},
   "outputs": [],
   "source": []
  }
 ],
 "metadata": {
  "kernelspec": {
   "display_name": "py3",
   "language": "python",
   "name": "python3"
  },
  "language_info": {
   "codemirror_mode": {
    "name": "ipython",
    "version": 3
   },
   "file_extension": ".py",
   "mimetype": "text/x-python",
   "name": "python",
   "nbconvert_exporter": "python",
   "pygments_lexer": "ipython3",
   "version": "3.8.16"
  },
  "orig_nbformat": 4
 },
 "nbformat": 4,
 "nbformat_minor": 2
}
