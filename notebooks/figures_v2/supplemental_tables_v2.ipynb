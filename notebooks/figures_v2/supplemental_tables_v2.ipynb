{
 "cells": [
  {
   "cell_type": "markdown",
   "metadata": {},
   "source": [
    "## setup and resources"
   ]
  },
  {
   "cell_type": "markdown",
   "metadata": {},
   "source": [
    "### imports"
   ]
  },
  {
   "cell_type": "code",
   "execution_count": 10,
   "metadata": {},
   "outputs": [],
   "source": [
    "# imports\n",
    "import matplotlib.pyplot as plt\n",
    "import os\n",
    "import numpy as np\n",
    "import pandas as pd\n",
    "import seaborn as sns\n",
    "from scipy import stats\n",
    "\n",
    "from rna_secstruct_design.selection import get_selection, SecStruct\n",
    "\n",
    "from q_dms_ttr_paper.paths import DATA_PATH, LIB_PATH\n",
    "from q_dms_ttr_paper.plotting import (\n",
    "    plot_pop_avg_from_row, find_stretches, fill_between, plot_pop_avg)\n",
    "\n",
    "\n",
    "\n",
    "# general figure tweaks\n",
    "%matplotlib inline\n",
    "plt.rcParams[\"figure.figsize\"] = (15, 10)\n",
    "plt.rcParams[\"font.size\"] = 20\n",
    "# to fight the theme\n",
    "plt.rcParams[\"figure.facecolor\"] = \"white\""
   ]
  },
  {
   "cell_type": "markdown",
   "metadata": {},
   "source": [
    "### load data"
   ]
  },
  {
   "cell_type": "code",
   "execution_count": 11,
   "metadata": {},
   "outputs": [],
   "source": [
    "df_wt_mg = pd.read_json(f\"{DATA_PATH}/processed/wt_mg_titra.json\")\n",
    "df_wt_buff = pd.read_json(f\"{DATA_PATH}/processed/wt_buffer_titra.json\")\n",
    "df_mttr6_muts = pd.read_json(f\"{DATA_PATH}/processed/mttr6_muts_titra.json\")\n",
    "df_mttr6_full = pd.read_json(f\"{DATA_PATH}/processed/mttr6_data_full.json\")\n",
    "df_mg_1_2 = pd.read_csv(f\"{DATA_PATH}/processed/mtt6_data_mg_1_2.csv\")\n",
    "df_dg = pd.read_csv(f\"{LIB_PATH}/resources/csvs/ttr_mutation_dgs_subset.csv\")\n",
    "df_dg_new = pd.read_csv(f\"{LIB_PATH}/resources/csvs/rna_map_dg.csv\")"
   ]
  },
  {
   "cell_type": "code",
   "execution_count": 12,
   "metadata": {},
   "outputs": [],
   "source": [
    "df_sub = df_mg_1_2.copy()\n",
    "df_sub = df_sub.merge(df_dg, on=\"name\")\n",
    "df_sub = df_sub.merge(df_dg_new, on=\"name\")\n",
    "df_sub['ln_mg_1_2'] = np.log(df_sub['mg_1_2'])\n",
    "df_sub['ln_mg_1_2_err'] =  df_sub['mg_1_2_err'] / df_sub['mg_1_2']"
   ]
  },
  {
   "cell_type": "code",
   "execution_count": 13,
   "metadata": {},
   "outputs": [
    {
     "data": {
      "text/plain": [
       "Index(['name', 'num_points', 'mg_1_2', 'mg_1_2_err', 'n', 'n_err', 'a_0',\n",
       "       'a_0_err', 'r_name', 'act_seq', 'act_ss', 'seq', 'dg', 'old_dg',\n",
       "       'rna_map_dg', 'rna_map_dg_err', 'ln_mg_1_2', 'ln_mg_1_2_err'],\n",
       "      dtype='object')"
      ]
     },
     "execution_count": 13,
     "metadata": {},
     "output_type": "execute_result"
    }
   ],
   "source": [
    "df_sub.columns"
   ]
  },
  {
   "cell_type": "code",
   "execution_count": 14,
   "metadata": {},
   "outputs": [],
   "source": [
    "df_sub = df_sub[[\"name\", \"act_seq\", \"act_ss\", \"dg\", \"rna_map_dg_err\", \"mg_1_2\", \"mg_1_2_err\"]]"
   ]
  },
  {
   "cell_type": "code",
   "execution_count": 15,
   "metadata": {},
   "outputs": [],
   "source": [
    "new_names = []\n",
    "for i, row in df_sub.iterrows():\n",
    "    name_spl = row[\"name\"].split(\"_\")\n",
    "    new_name = f\"{name_spl[1]}_{name_spl[0]}\"\n",
    "    new_names.append(new_name)\n",
    "df_sub[\"name\"] = new_names"
   ]
  },
  {
   "cell_type": "code",
   "execution_count": 16,
   "metadata": {},
   "outputs": [],
   "source": [
    "df_sub.to_csv(\"supplemental_table_1.csv\", index=False)"
   ]
  },
  {
   "cell_type": "code",
   "execution_count": null,
   "metadata": {},
   "outputs": [],
   "source": []
  }
 ],
 "metadata": {
  "kernelspec": {
   "display_name": "py3",
   "language": "python",
   "name": "python3"
  },
  "language_info": {
   "codemirror_mode": {
    "name": "ipython",
    "version": 3
   },
   "file_extension": ".py",
   "mimetype": "text/x-python",
   "name": "python",
   "nbconvert_exporter": "python",
   "pygments_lexer": "ipython3",
   "version": "3.8.16"
  }
 },
 "nbformat": 4,
 "nbformat_minor": 2
}
